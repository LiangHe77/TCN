{
 "cells": [
  {
   "cell_type": "code",
   "execution_count": 2,
   "metadata": {},
   "outputs": [],
   "source": [
    "import torch\n",
    "import torch.nn as nn\n",
    "from torch.nn.utils import weight_norm"
   ]
  },
  {
   "cell_type": "code",
   "execution_count": 10,
   "metadata": {},
   "outputs": [],
   "source": [
    "class BasicBlock(nn.Module):\n",
    "    def __init__(self,in_channels,out_channels,kernel_size,padding,stride,dilation,dropout=0.2):\n",
    "        super().__init__()\n",
    "        self.conv1 = weight_norm(nn.Conv1d(in_channels,out_channels,kernel_size=kernel_size,\\\n",
    "                                         stride=stride,padding=(padding,0),dilation=dilation))\n",
    "        self.relu1 = nn.ReLU()\n",
    "        self.dropout1 = nn.Dropout(dropout)\n",
    "        \n",
    "        self.conv2 = weight_norm(nn.Conv1d(in_channels,out_channels,kernel_size=kernel_size,\\\n",
    "                                         stride=stride,padding=(padding,0),dilation=dilation))\n",
    "        self.relu2 = nn.ReLU()\n",
    "        self.dropout2 = nn.Dropout(dropout)\n",
    "        \n",
    "        self.residual = nn.Sequential(self.conv1,self.relu1,self.dropout1,\\\n",
    "                                      self.conv2,self.relu2,self.dropout2)\n",
    "        self.shortcut = nn.Sequential()\n",
    "        if in_channels!=out_channels:\n",
    "            self.shortcut = nn.Conv1d(in_channels,out_channels,kernel_size)\n",
    "            \n",
    "    def forward(self,x):\n",
    "        residual = self.residual(x)\n",
    "        shortcut = self.short(x)\n",
    "        return nn.ReLU()(residual+shortcut)"
   ]
  },
  {
   "cell_type": "code",
   "execution_count": 16,
   "metadata": {},
   "outputs": [],
   "source": [
    "class TemporalConvNet(nn.Module):\n",
    "    def __init__(self,num_inputs,num_channels,kernel_size=2,dropout=0.2):\n",
    "        super().__init__()\n",
    "        \n",
    "        layers = []\n",
    "        num_levels = len(num_channels)\n",
    "        in_channels = [num_inputs] + num_channels\n",
    "        \n",
    "        for i in range(num_levels):\n",
    "            dilation = 2**i\n",
    "            layers.append(BasicBlock(in_channels[i],in_channels[i+1],kernel_size,stride=1,dilation=dilation,\\\n",
    "                                   padding=(kernel_size-1)*dilation,dropout=dropout))\n",
    "        self.network = nn.Sequential(*layers)\n",
    "    \n",
    "    def forward(self,x):\n",
    "        return self.network(x)"
   ]
  },
  {
   "cell_type": "code",
   "execution_count": 17,
   "metadata": {},
   "outputs": [
    {
     "data": {
      "text/plain": [
       "TemporalConvNet(\n",
       "  (network): Sequential(\n",
       "    (0): BasicBlock(\n",
       "      (conv1): Conv1d(8, 4, kernel_size=(2,), stride=(1,), padding=(1, 0))\n",
       "      (relu1): ReLU()\n",
       "      (dropout1): Dropout(p=0.2, inplace=False)\n",
       "      (conv2): Conv1d(8, 4, kernel_size=(2,), stride=(1,), padding=(1, 0))\n",
       "      (relu2): ReLU()\n",
       "      (dropout2): Dropout(p=0.2, inplace=False)\n",
       "      (residual): Sequential(\n",
       "        (0): Conv1d(8, 4, kernel_size=(2,), stride=(1,), padding=(1, 0))\n",
       "        (1): ReLU()\n",
       "        (2): Dropout(p=0.2, inplace=False)\n",
       "        (3): Conv1d(8, 4, kernel_size=(2,), stride=(1,), padding=(1, 0))\n",
       "        (4): ReLU()\n",
       "        (5): Dropout(p=0.2, inplace=False)\n",
       "      )\n",
       "      (shortcut): Conv1d(8, 4, kernel_size=(2,), stride=(1,))\n",
       "    )\n",
       "    (1): BasicBlock(\n",
       "      (conv1): Conv1d(4, 2, kernel_size=(2,), stride=(1,), padding=(2, 0), dilation=(2,))\n",
       "      (relu1): ReLU()\n",
       "      (dropout1): Dropout(p=0.2, inplace=False)\n",
       "      (conv2): Conv1d(4, 2, kernel_size=(2,), stride=(1,), padding=(2, 0), dilation=(2,))\n",
       "      (relu2): ReLU()\n",
       "      (dropout2): Dropout(p=0.2, inplace=False)\n",
       "      (residual): Sequential(\n",
       "        (0): Conv1d(4, 2, kernel_size=(2,), stride=(1,), padding=(2, 0), dilation=(2,))\n",
       "        (1): ReLU()\n",
       "        (2): Dropout(p=0.2, inplace=False)\n",
       "        (3): Conv1d(4, 2, kernel_size=(2,), stride=(1,), padding=(2, 0), dilation=(2,))\n",
       "        (4): ReLU()\n",
       "        (5): Dropout(p=0.2, inplace=False)\n",
       "      )\n",
       "      (shortcut): Conv1d(4, 2, kernel_size=(2,), stride=(1,))\n",
       "    )\n",
       "    (2): BasicBlock(\n",
       "      (conv1): Conv1d(2, 1, kernel_size=(2,), stride=(1,), padding=(4, 0), dilation=(4,))\n",
       "      (relu1): ReLU()\n",
       "      (dropout1): Dropout(p=0.2, inplace=False)\n",
       "      (conv2): Conv1d(2, 1, kernel_size=(2,), stride=(1,), padding=(4, 0), dilation=(4,))\n",
       "      (relu2): ReLU()\n",
       "      (dropout2): Dropout(p=0.2, inplace=False)\n",
       "      (residual): Sequential(\n",
       "        (0): Conv1d(2, 1, kernel_size=(2,), stride=(1,), padding=(4, 0), dilation=(4,))\n",
       "        (1): ReLU()\n",
       "        (2): Dropout(p=0.2, inplace=False)\n",
       "        (3): Conv1d(2, 1, kernel_size=(2,), stride=(1,), padding=(4, 0), dilation=(4,))\n",
       "        (4): ReLU()\n",
       "        (5): Dropout(p=0.2, inplace=False)\n",
       "      )\n",
       "      (shortcut): Conv1d(2, 1, kernel_size=(2,), stride=(1,))\n",
       "    )\n",
       "  )\n",
       ")"
      ]
     },
     "execution_count": 17,
     "metadata": {},
     "output_type": "execute_result"
    }
   ],
   "source": [
    "TemporalConvNet(8,[4,2,1])"
   ]
  }
 ],
 "metadata": {
  "kernelspec": {
   "display_name": "Python 3",
   "language": "python",
   "name": "python3"
  },
  "language_info": {
   "codemirror_mode": {
    "name": "ipython",
    "version": 3
   },
   "file_extension": ".py",
   "mimetype": "text/x-python",
   "name": "python",
   "nbconvert_exporter": "python",
   "pygments_lexer": "ipython3",
   "version": "3.7.3"
  },
  "toc": {
   "base_numbering": 1,
   "nav_menu": {},
   "number_sections": true,
   "sideBar": true,
   "skip_h1_title": false,
   "title_cell": "Table of Contents",
   "title_sidebar": "Contents",
   "toc_cell": false,
   "toc_position": {},
   "toc_section_display": true,
   "toc_window_display": false
  }
 },
 "nbformat": 4,
 "nbformat_minor": 2
}
